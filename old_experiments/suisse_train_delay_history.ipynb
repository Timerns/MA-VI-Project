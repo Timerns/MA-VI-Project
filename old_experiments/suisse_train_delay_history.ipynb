{
 "cells": [
  {
   "cell_type": "code",
   "execution_count": 228,
   "metadata": {},
   "outputs": [],
   "source": [
    "import pandas as pd\n",
    "import numpy as np\n",
    "\n",
    "history = pd.read_csv('../data/sbb-data.csv', sep=';')"
   ]
  },
  {
   "cell_type": "code",
   "execution_count": 229,
   "metadata": {},
   "outputs": [],
   "source": [
    "history = history.dropna(subset=['Geopos'])"
   ]
  },
  {
   "cell_type": "code",
   "execution_count": 230,
   "metadata": {},
   "outputs": [],
   "source": [
    "IR90_5_57 = history.reset_index()\n",
    "IR90_5_57 = IR90_5_57.groupby(['Stop name', 'Geopos']).size().reset_index(name='Count')"
   ]
  },
  {
   "cell_type": "code",
   "execution_count": 231,
   "metadata": {},
   "outputs": [],
   "source": [
    "# IR90_5_57[\"Geopos\"]  inverse \"46.292121563817425, 7.532825555815483\" serpate by comma and then inverse the two values the result must be in an array\n",
    "IR90_5_57[\"Geopos\"] = IR90_5_57[\"Geopos\"].str.split(\",\")"
   ]
  },
  {
   "cell_type": "code",
   "execution_count": 241,
   "metadata": {},
   "outputs": [],
   "source": [
    "import folium\n",
    "from folium.plugins import MarkerCluster\n",
    "\n",
    "m = folium.Map(location=[46.8, 8.2], zoom_start=8, tiles=\"Cartodb Positron\")\n",
    "# MarkerCluster(IR90_5_57[\"Geopos\"]).add_to(m)\n",
    "for i in range(len(IR90_5_57)):\n",
    "    folium.CircleMarker(location=IR90_5_57[\"Geopos\"][i], popup=IR90_5_57[\"Stop name\"][i] + \" - \" + str(IR90_5_57[\"Count\"][i]), radius=(IR90_5_57[\"Count\"][i]/100), fill=True,fill_opacity=1).add_to(m)\n",
    "m.save('../histroy.html')"
   ]
  }
 ],
 "metadata": {
  "kernelspec": {
   "display_name": ".venv",
   "language": "python",
   "name": "python3"
  },
  "language_info": {
   "codemirror_mode": {
    "name": "ipython",
    "version": 3
   },
   "file_extension": ".py",
   "mimetype": "text/x-python",
   "name": "python",
   "nbconvert_exporter": "python",
   "pygments_lexer": "ipython3",
   "version": "3.12.6"
  }
 },
 "nbformat": 4,
 "nbformat_minor": 2
}
