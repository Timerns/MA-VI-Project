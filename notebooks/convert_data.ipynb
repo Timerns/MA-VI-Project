{
 "cells": [
  {
   "cell_type": "code",
   "execution_count": 36,
   "id": "initial_id",
   "metadata": {
    "ExecuteTime": {
     "end_time": "2024-11-01T09:39:12.371464Z",
     "start_time": "2024-11-01T09:39:10.071791Z"
    },
    "collapsed": true
   },
   "outputs": [
    {
     "name": "stdout",
     "output_type": "stream",
     "text": [
      "                                 Geopos   latitude  longitude\n",
      "0   47.5079223325029, 8.760389196167752  47.507922   8.760389\n",
      "1  47.36660976671019, 8.548489088449456  47.366610   8.548489\n",
      "2  47.40743350791071, 8.214805494441988  47.407434   8.214805\n",
      "3   47.39917636823757, 8.44724506333892  47.399176   8.447245\n",
      "4  47.42807508777434, 8.276363251209915  47.428075   8.276363\n"
     ]
    }
   ],
   "source": [
    "import pandas as pd\n",
    "\n",
    "# Chargement des données depuis un fichier CSV\n",
    "df = pd.read_csv('../data/sbb-data.csv', delimiter=';')\n",
    "\n",
    "# Séparation de la colonne Geopos en latitude et longitude\n",
    "df[['latitude', 'longitude']] = df['Geopos'].str.split(',', expand=True)\n",
    "\n",
    "# Conversion des nouvelles colonnes en type float pour un usage géospatial\n",
    "df['latitude'] = df['latitude'].astype(float)\n",
    "df['longitude'] = df['longitude'].astype(float)\n",
    "\n",
    "# Vérification du résultat\n",
    "print(df[['Geopos', 'latitude', 'longitude']].head())\n",
    "\n",
    "# Sauvegarde des données dans un nouveau fichier CSV (optionnel)\n",
    "df.to_csv('../data/sbb-data_latlong.csv', index=False)\n",
    "\n",
    "\n"
   ]
  },
  {
   "cell_type": "code",
   "execution_count": 37,
   "id": "429ab1b6",
   "metadata": {},
   "outputs": [],
   "source": [
    "df['Departure time'] = pd.to_datetime(df['Departure time'])\n",
    "df['Departure forecast'] = pd.to_datetime(df['Departure forecast'])\n",
    "df['Departure delay'] = df['Departure delay'].astype(bool)\n",
    "df['delay'] = df['Departure forecast']- df['Departure time']\n",
    "\n",
    "# replace all delay > 10 minutes by NaT\n",
    "df.loc[df['delay'] > '24:00:00', 'delay'] = pd.NaT"
   ]
  },
  {
   "cell_type": "code",
   "execution_count": null,
   "id": "4a06fe69f5ae7e65",
   "metadata": {},
   "outputs": [
    {
     "data": {
      "text/plain": [
       "RangeIndex(start=0, stop=61858, step=1)"
      ]
     },
     "execution_count": 43,
     "metadata": {},
     "output_type": "execute_result"
    }
   ],
   "source": [
    "station_data = df.groupby('Stop name').agg({'delay': 'max', 'Day of operation': 'count', 'Departure delay': 'sum'}).reset_index()\n",
    "station_data['delay rate'] = station_data['Departure delay']/station_data['Day of operation'] * 100\n",
    "\n",
    "line_data = df.groupby('Line Text').agg({'Day of operation': 'count', 'Departure delay': 'sum'}).reset_index()\n",
    "line_data['delay rate'] = line_data['Departure delay']/line_data['Day of operation'] * 100\n",
    "\n",
    "# add the information to the initial data frame when the station name is the same and the line is the same\n",
    "\n",
    "data = df.merge(station_data, on='Stop name', how='left', suffixes=('', '_station'))\n",
    "data = data.merge(line_data, on='Line Text', how='left', suffixes=('', '_line'))\n",
    "\n",
    "# df['Departure delay'] transform boolean value to strings 'ok' and 'ko'\n",
    "data['Departure delay'] = data['Departure delay'].replace({True: 'En retard', False: 'Pas en retard'})\n",
    "\n",
    "# filter the data frame to keep only the relevant columns\n",
    "\n",
    "data = data[['Stop name', 'delay_station', 'Day of operation_station', 'Departure delay_station', 'delay rate', 'longitude', 'latitude', 'Line Text', 'Day of operation_line', 'Departure delay_line', 'delay rate_line', 'Departure delay', 'Arrival forecast']]\n",
    "\n",
    "# rename column Stop name with name\n",
    "data = data.set_axis(['nom gare', 'retard max gare', 'nombre total train gare', 'nombre retard train gare', 'taux retard gare', 'longitude', 'latitude', 'Nom Ligne', 'nombre total train ligne', 'nombre retard train ligne', 'taux retard ligne', 'retard', 'heure d\\'arrivé'], axis=1)\n",
    "data.to_csv('../data/sbb-data_grouped.csv', index=False)"
   ]
  }
 ],
 "metadata": {
  "kernelspec": {
   "display_name": ".venv",
   "language": "python",
   "name": "python3"
  },
  "language_info": {
   "codemirror_mode": {
    "name": "ipython",
    "version": 3
   },
   "file_extension": ".py",
   "mimetype": "text/x-python",
   "name": "python",
   "nbconvert_exporter": "python",
   "pygments_lexer": "ipython3",
   "version": "3.12.6"
  }
 },
 "nbformat": 4,
 "nbformat_minor": 5
}
