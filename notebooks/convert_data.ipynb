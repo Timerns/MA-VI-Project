{
 "cells": [
  {
   "cell_type": "code",
   "execution_count": 26,
   "id": "initial_id",
   "metadata": {
    "ExecuteTime": {
     "end_time": "2024-11-01T09:39:12.371464Z",
     "start_time": "2024-11-01T09:39:10.071791Z"
    },
    "collapsed": true
   },
   "outputs": [
    {
     "name": "stdout",
     "output_type": "stream",
     "text": [
      "                                 Geopos   latitude  longitude\n",
      "0   47.5079223325029, 8.760389196167752  47.507922   8.760389\n",
      "1  47.36660976671019, 8.548489088449456  47.366610   8.548489\n",
      "2  47.40743350791071, 8.214805494441988  47.407434   8.214805\n",
      "3   47.39917636823757, 8.44724506333892  47.399176   8.447245\n",
      "4  47.42807508777434, 8.276363251209915  47.428075   8.276363\n"
     ]
    }
   ],
   "source": [
    "import pandas as pd\n",
    "\n",
    "# Chargement des données depuis un fichier CSV\n",
    "df = pd.read_csv('../data/sbb-data.csv', delimiter=';')\n",
    "\n",
    "# Séparation de la colonne Geopos en latitude et longitude\n",
    "df[['latitude', 'longitude']] = df['Geopos'].str.split(',', expand=True)\n",
    "\n",
    "# Conversion des nouvelles colonnes en type float pour un usage géospatial\n",
    "df['latitude'] = df['latitude'].astype(float)\n",
    "df['longitude'] = df['longitude'].astype(float)\n",
    "\n",
    "# Vérification du résultat\n",
    "print(df[['Geopos', 'latitude', 'longitude']].head())\n",
    "\n",
    "# Sauvegarde des données dans un nouveau fichier CSV (optionnel)\n",
    "df.to_csv('../data/sbb-data_latlong.csv', index=False)\n",
    "\n",
    "\n"
   ]
  },
  {
   "cell_type": "code",
   "execution_count": 72,
   "id": "4a06fe69f5ae7e65",
   "metadata": {},
   "outputs": [
    {
     "name": "stdout",
     "output_type": "stream",
     "text": [
      "Line Text        count                                                     853\n",
      "Departure delay  sum                                                        47\n",
      "delay            sum                                           0 days 12:09:45\n",
      "Stop name        <lambda>    [Sierre/Siders, Montreux, Genève, Brig, Martig...\n",
      "Linie            nunique                                                    66\n",
      "Departure time   <lambda>    [2024-10-13 20:23:00, 2024-10-13 22:58:00, 202...\n",
      "Name: IR90, dtype: object\n"
     ]
    }
   ],
   "source": [
    "df['Departure time'] = pd.to_datetime(df['Departure time'])\n",
    "df['Departure forecast'] = pd.to_datetime(df['Departure forecast'])\n",
    "df['Departure delay'] = df['Departure delay'].astype(bool)\n",
    "df['delay'] = df['Departure forecast']- df['Departure time']\n",
    "\n",
    "# replace all delay > 10 minutes by NaT\n",
    "df.loc[df['delay'] > '24:00:00', 'delay'] = pd.NaT\n",
    "\n",
    "# groupby line text and get somme statistics on it and add one with an array of all Stop name AND THE number of unique Linie and an array of all Departure time that are classified as delayed\n",
    "grouped = df.groupby('Line Text').agg({'Line Text': 'count', 'Departure delay': 'sum', 'delay': ['sum'], 'Stop name':  lambda x: list(x), 'Linie': 'nunique', 'Departure time': lambda x: list(x[df['Departure delay'] == True])})\n",
    "\n",
    "# show the line Text with IR90\n",
    "print(grouped.loc['IR90'])\n",
    "\n",
    "\n",
    "grouped.to_csv('../data/sbb-ligne-transformed.csv', index=False)"
   ]
  }
 ],
 "metadata": {
  "kernelspec": {
   "display_name": ".venv",
   "language": "python",
   "name": "python3"
  },
  "language_info": {
   "codemirror_mode": {
    "name": "ipython",
    "version": 3
   },
   "file_extension": ".py",
   "mimetype": "text/x-python",
   "name": "python",
   "nbconvert_exporter": "python",
   "pygments_lexer": "ipython3",
   "version": "3.12.6"
  }
 },
 "nbformat": 4,
 "nbformat_minor": 5
}
