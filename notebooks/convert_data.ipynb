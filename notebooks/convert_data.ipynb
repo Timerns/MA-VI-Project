{
 "cells": [
  {
   "cell_type": "code",
   "id": "initial_id",
   "metadata": {
    "collapsed": true,
    "ExecuteTime": {
     "end_time": "2024-11-22T09:21:50.926515Z",
     "start_time": "2024-11-22T09:21:49.587026Z"
    }
   },
   "source": [
    "import pandas as pd\n",
    "\n",
    "# Chargement des données depuis un fichier CSV\n",
    "df = pd.read_csv('../data/sbb-data.csv', delimiter=';')\n",
    "\n",
    "# Séparation de la colonne Geopos en latitude et longitude\n",
    "df[['latitude', 'longitude']] = df['Geopos'].str.split(',', expand=True)\n",
    "\n",
    "# Conversion des nouvelles colonnes en type float pour un usage géospatial\n",
    "df['latitude'] = df['latitude'].astype(float)\n",
    "df['longitude'] = df['longitude'].astype(float)\n",
    "\n",
    "# Vérification du résultat\n",
    "print(df[['Geopos', 'latitude', 'longitude']].head())\n",
    "\n",
    "# Sauvegarde des données dans un nouveau fichier CSV (optionnel)\n",
    "df.to_csv('../data/sbb-data_latlong.csv', index=False)\n"
   ],
   "outputs": [
    {
     "name": "stdout",
     "output_type": "stream",
     "text": [
      "                                 Geopos   latitude  longitude\n",
      "0   47.5079223325029, 8.760389196167752  47.507922   8.760389\n",
      "1  47.36660976671019, 8.548489088449456  47.366610   8.548489\n",
      "2  47.40743350791071, 8.214805494441988  47.407434   8.214805\n",
      "3   47.39917636823757, 8.44724506333892  47.399176   8.447245\n",
      "4  47.42807508777434, 8.276363251209915  47.428075   8.276363\n"
     ]
    }
   ],
   "execution_count": 2
  },
  {
   "metadata": {},
   "cell_type": "code",
   "outputs": [],
   "execution_count": null,
   "source": "",
   "id": "4a06fe69f5ae7e65"
  }
 ],
 "metadata": {
  "kernelspec": {
   "display_name": "Python 3",
   "language": "python",
   "name": "python3"
  },
  "language_info": {
   "codemirror_mode": {
    "name": "ipython",
    "version": 2
   },
   "file_extension": ".py",
   "mimetype": "text/x-python",
   "name": "python",
   "nbconvert_exporter": "python",
   "pygments_lexer": "ipython2",
   "version": "2.7.6"
  }
 },
 "nbformat": 4,
 "nbformat_minor": 5
}
