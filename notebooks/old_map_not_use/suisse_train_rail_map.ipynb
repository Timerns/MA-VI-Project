{
 "cells": [
  {
   "cell_type": "code",
   "execution_count": 6,
   "metadata": {},
   "outputs": [],
   "source": [
    "import pandas as pd\n",
    "import numpy as np\n",
    "\n",
    "lignes = pd.read_csv('../data/sbb-ligne.csv', sep=';')"
   ]
  },
  {
   "cell_type": "code",
   "execution_count": 34,
   "metadata": {},
   "outputs": [],
   "source": [
    "import json\n",
    "\n",
    "ligne = lignes[lignes[\"ÉCARTEMENT\"] == 'N']\n",
    "ligne = ligne.reset_index()\n",
    "t = ligne[\"Geo Shape\"]\n",
    "t = t.apply(json.loads)\n",
    "\n",
    "for i in range(0, len(t)):\n",
    "    t[i] = t[i][\"coordinates\"]\n",
    "\n",
    "t = [[ [t[i][j][1], t[i][j][0]] for j in range(0, len(t[i]))] for i in range(0, len(t))]\n"
   ]
  },
  {
   "cell_type": "code",
   "execution_count": 35,
   "metadata": {},
   "outputs": [],
   "source": [
    "import folium\n",
    "\n",
    "m = folium.Map(location=[46.8, 8.2], zoom_start=8, tiles=\"Cartodb Positron\")\n",
    "\n",
    "for i in range(0, len(t)):\n",
    "    random_color = np.random.randint(0, 16777215)\n",
    "    random_color = '#%06x' % random_color\n",
    "    folium.PolyLine(t[i], color=random_color, weight=2.5, opacity=1).add_to(m)\n",
    "m.save('../lignes.html')"
   ]
  }
 ],
 "metadata": {
  "kernelspec": {
   "display_name": ".venv",
   "language": "python",
   "name": "python3"
  },
  "language_info": {
   "codemirror_mode": {
    "name": "ipython",
    "version": 3
   },
   "file_extension": ".py",
   "mimetype": "text/x-python",
   "name": "python",
   "nbconvert_exporter": "python",
   "pygments_lexer": "ipython3",
   "version": "3.12.6"
  }
 },
 "nbformat": 4,
 "nbformat_minor": 2
}
