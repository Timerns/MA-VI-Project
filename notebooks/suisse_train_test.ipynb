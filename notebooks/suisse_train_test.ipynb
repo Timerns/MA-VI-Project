{
 "cells": [
  {
   "cell_type": "code",
   "execution_count": 14,
   "metadata": {},
   "outputs": [],
   "source": [
    "import pandas as pd\n",
    "import numpy as np\n",
    "\n",
    "history = pd.read_csv('../data/sbb-data.csv', sep=';')\n",
    "lignes = pd.read_csv('../data/sbb-ligne.csv', sep=';')"
   ]
  },
  {
   "cell_type": "code",
   "execution_count": 15,
   "metadata": {},
   "outputs": [],
   "source": [
    "import json\n",
    "\n",
    "ligne = lignes[lignes[\"ÉCARTEMENT\"] == 'N']\n",
    "ligne = ligne.reset_index()\n",
    "t = ligne[\"Geo Shape\"]\n",
    "t = t.apply(json.loads)\n",
    "\n",
    "for i in range(0, len(t)):\n",
    "    t[i] = t[i][\"coordinates\"]\n",
    "\n",
    "t = [[ [t[i][j][1], t[i][j][0]] for j in range(0, len(t[i]))] for i in range(0, len(t))]"
   ]
  },
  {
   "cell_type": "code",
   "execution_count": 16,
   "metadata": {},
   "outputs": [],
   "source": [
    "history = history.dropna(subset=['Geopos'])\n",
    "history = history.groupby(['Stop name', 'Geopos']).size().reset_index(name='Count')\n",
    "history[\"Geopos\"] = history[\"Geopos\"].str.split(\",\")"
   ]
  },
  {
   "cell_type": "code",
   "execution_count": 17,
   "metadata": {},
   "outputs": [],
   "source": [
    "import folium\n",
    "\n",
    "m = folium.Map(location=[46.8, 8.2], zoom_start=8, tiles=\"Cartodb Positron\")\n",
    "# MarkerCluster(IR90_5_57[\"Geopos\"]).add_to(m)\n",
    "for i in range(0, len(t)):\n",
    "    folium.PolyLine(t[i], color=\"#050505\", weight=2.5, opacity=1).add_to(m)\n",
    "\n",
    "for i in range(len(history)):\n",
    "    folium.CircleMarker(location=history[\"Geopos\"][i], popup=history[\"Stop name\"][i] + \" - \" + str(history[\"Count\"][i]), radius=(history[\"Count\"][i]/100), fill=True,fill_opacity=1, color=\"red\").add_to(m)\n",
    "m.save('../test.html')"
   ]
  }
 ],
 "metadata": {
  "kernelspec": {
   "display_name": ".venv",
   "language": "python",
   "name": "python3"
  },
  "language_info": {
   "codemirror_mode": {
    "name": "ipython",
    "version": 3
   },
   "file_extension": ".py",
   "mimetype": "text/x-python",
   "name": "python",
   "nbconvert_exporter": "python",
   "pygments_lexer": "ipython3",
   "version": "3.12.6"
  }
 },
 "nbformat": 4,
 "nbformat_minor": 2
}
