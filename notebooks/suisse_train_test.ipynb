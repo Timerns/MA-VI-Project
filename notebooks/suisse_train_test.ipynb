{
 "cells": [
  {
   "cell_type": "code",
   "metadata": {
    "ExecuteTime": {
     "end_time": "2024-11-01T08:09:12.973127Z",
     "start_time": "2024-11-01T08:09:11.226105Z"
    }
   },
   "source": [
    "import pandas as pd\n",
    "import numpy as np\n",
    "\n",
    "history = pd.read_csv('../data/sbb-data.csv', sep=';')\n",
    "lignes = pd.read_csv('../data/sbb-ligne.csv', sep=';')"
   ],
   "outputs": [],
   "execution_count": 1
  },
  {
   "cell_type": "code",
   "metadata": {
    "ExecuteTime": {
     "end_time": "2024-11-01T08:09:16.956201Z",
     "start_time": "2024-11-01T08:09:12.990151Z"
    }
   },
   "source": [
    "import json\n",
    "\n",
    "ligne = lignes[lignes[\"ÉCARTEMENT\"] == 'N']\n",
    "ligne = ligne.reset_index()\n",
    "t = ligne[\"Geo Shape\"]\n",
    "t = t.apply(json.loads)\n",
    "\n",
    "for i in range(0, len(t)):\n",
    "    t[i] = t[i][\"coordinates\"]\n",
    "\n",
    "t = [[ [t[i][j][1], t[i][j][0]] for j in range(0, len(t[i]))] for i in range(0, len(t))]"
   ],
   "outputs": [],
   "execution_count": 2
  },
  {
   "cell_type": "code",
   "metadata": {
    "ExecuteTime": {
     "end_time": "2024-11-01T08:09:23.101729Z",
     "start_time": "2024-11-01T08:09:23.038431Z"
    }
   },
   "source": [
    "history = history.dropna(subset=['Geopos'])\n",
    "history = history.groupby(['Stop name', 'Geopos']).size().reset_index(name='Count')\n",
    "history[\"Geopos\"] = history[\"Geopos\"].str.split(\",\")"
   ],
   "outputs": [],
   "execution_count": 3
  },
  {
   "cell_type": "code",
   "execution_count": 17,
   "metadata": {},
   "outputs": [],
   "source": [
    "import folium\n",
    "\n",
    "m = folium.Map(location=[46.8, 8.2], zoom_start=8, tiles=\"Cartodb Positron\")\n",
    "# MarkerCluster(IR90_5_57[\"Geopos\"]).add_to(m)\n",
    "for i in range(0, len(t)):\n",
    "    folium.PolyLine(t[i], color=\"#050505\", weight=2.5, opacity=1).add_to(m)\n",
    "\n",
    "for i in range(len(history)):\n",
    "    folium.CircleMarker(location=history[\"Geopos\"][i], popup=history[\"Stop name\"][i] + \" - \" + str(history[\"Count\"][i]), radius=(history[\"Count\"][i]/100), fill=True,fill_opacity=1, color=\"red\").add_to(m)\n",
    "m.save('../test.html')"
   ]
  },
  {
   "metadata": {
    "ExecuteTime": {
     "end_time": "2024-11-01T08:09:34.112019Z",
     "start_time": "2024-11-01T08:09:27.586023Z"
    }
   },
   "cell_type": "code",
   "source": [
    "import folium\n",
    "from folium.plugins import MarkerCluster\n",
    "\n",
    "# Création de la carte\n",
    "m = folium.Map(location=[46.8, 8.2], zoom_start=8, tiles=\"Cartodb Positron\")\n",
    "\n",
    "# Création des groupes de fonctionnalités pour les lignes et les gares\n",
    "lignes = folium.FeatureGroup(name=\"Lignes\")\n",
    "gares = folium.FeatureGroup(name=\"Gares\")\n",
    "\n",
    "# Ajout des lignes avec PolyLine au groupe 'lignes'\n",
    "for i in range(len(t)):\n",
    "    folium.PolyLine(t[i], color=\"#050505\", weight=2.5, opacity=1).add_to(lignes)\n",
    "\n",
    "# Ajout des marqueurs de gares avec CircleMarker au groupe 'gares'\n",
    "for i in range(len(history)):\n",
    "    folium.CircleMarker(\n",
    "        location=history[\"Geopos\"][i],\n",
    "        popup=history[\"Stop name\"][i] + \" - \" + str(history[\"Count\"][i]),\n",
    "        radius=(history[\"Count\"][i] / 100),\n",
    "        fill=True,\n",
    "        fill_opacity=1,\n",
    "        color=\"red\"\n",
    "    ).add_to(gares)\n",
    "\n",
    "# Ajout des groupes de fonctionnalités à la carte\n",
    "lignes.add_to(m)\n",
    "gares.add_to(m)\n",
    "\n",
    "# Ajout d'un contrôle de couche pour afficher/masquer les lignes et les gares\n",
    "folium.LayerControl(collapsed=False).add_to(m)\n",
    "\n",
    "# Enregistrement de la carte dans un fichier HTML\n",
    "m.save('../test2.html')\n"
   ],
   "outputs": [],
   "execution_count": 4
  }
 ],
 "metadata": {
  "kernelspec": {
   "display_name": ".venv",
   "language": "python",
   "name": "python3"
  },
  "language_info": {
   "codemirror_mode": {
    "name": "ipython",
    "version": 3
   },
   "file_extension": ".py",
   "mimetype": "text/x-python",
   "name": "python",
   "nbconvert_exporter": "python",
   "pygments_lexer": "ipython3",
   "version": "3.12.6"
  }
 },
 "nbformat": 4,
 "nbformat_minor": 2
}
